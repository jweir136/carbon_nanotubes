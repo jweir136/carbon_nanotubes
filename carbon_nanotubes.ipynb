{
  "nbformat": 4,
  "nbformat_minor": 0,
  "metadata": {
    "colab": {
      "name": "carbon_nanotubes.ipynb",
      "version": "0.3.2",
      "provenance": [],
      "collapsed_sections": [],
      "include_colab_link": true
    },
    "kernelspec": {
      "name": "python3",
      "display_name": "Python 3"
    }
  },
  "cells": [
    {
      "cell_type": "markdown",
      "metadata": {
        "id": "view-in-github",
        "colab_type": "text"
      },
      "source": [
        "<a href=\"https://colab.research.google.com/github/jweir136/carbon_nanotubes/blob/master/carbon_nanotubes.ipynb\" target=\"_parent\"><img src=\"https://colab.research.google.com/assets/colab-badge.svg\" alt=\"Open In Colab\"/></a>"
      ]
    },
    {
      "metadata": {
        "id": "bUkQcsBpCJs1",
        "colab_type": "code",
        "colab": {}
      },
      "cell_type": "code",
      "source": [
        "import pandas as pd\n",
        "\n",
        "data = pd.read_csv(\"carbon_nanotubes.csv\", sep=';')"
      ],
      "execution_count": 0,
      "outputs": []
    },
    {
      "metadata": {
        "id": "RImjS372C8wb",
        "colab_type": "code",
        "colab": {
          "base_uri": "https://localhost:8080/",
          "height": 221
        },
        "outputId": "cecee246-61e8-4974-ce0a-104b20f0a6eb"
      },
      "cell_type": "code",
      "source": [
        "data.head()"
      ],
      "execution_count": 31,
      "outputs": [
        {
          "output_type": "execute_result",
          "data": {
            "text/html": [
              "<div>\n",
              "<style scoped>\n",
              "    .dataframe tbody tr th:only-of-type {\n",
              "        vertical-align: middle;\n",
              "    }\n",
              "\n",
              "    .dataframe tbody tr th {\n",
              "        vertical-align: top;\n",
              "    }\n",
              "\n",
              "    .dataframe thead th {\n",
              "        text-align: right;\n",
              "    }\n",
              "</style>\n",
              "<table border=\"1\" class=\"dataframe\">\n",
              "  <thead>\n",
              "    <tr style=\"text-align: right;\">\n",
              "      <th></th>\n",
              "      <th>Chiral indice n</th>\n",
              "      <th>Chiral indice m</th>\n",
              "      <th>Initial atomic coordinate u</th>\n",
              "      <th>Initial atomic coordinate v</th>\n",
              "      <th>Initial atomic coordinate w</th>\n",
              "      <th>Calculated atomic coordinates u'</th>\n",
              "      <th>Calculated atomic coordinates v'</th>\n",
              "      <th>Calculated atomic coordinates w'</th>\n",
              "    </tr>\n",
              "  </thead>\n",
              "  <tbody>\n",
              "    <tr>\n",
              "      <th>0</th>\n",
              "      <td>2</td>\n",
              "      <td>1</td>\n",
              "      <td>0.679005</td>\n",
              "      <td>0.701318</td>\n",
              "      <td>0.017033</td>\n",
              "      <td>0.721039</td>\n",
              "      <td>0.730232</td>\n",
              "      <td>0.017014</td>\n",
              "    </tr>\n",
              "    <tr>\n",
              "      <th>1</th>\n",
              "      <td>2</td>\n",
              "      <td>1</td>\n",
              "      <td>0.717298</td>\n",
              "      <td>0.642129</td>\n",
              "      <td>0.231319</td>\n",
              "      <td>0.738414</td>\n",
              "      <td>0.656750</td>\n",
              "      <td>0.232369</td>\n",
              "    </tr>\n",
              "    <tr>\n",
              "      <th>2</th>\n",
              "      <td>2</td>\n",
              "      <td>1</td>\n",
              "      <td>0.489336</td>\n",
              "      <td>0.303751</td>\n",
              "      <td>0.088462</td>\n",
              "      <td>0.477676</td>\n",
              "      <td>0.263221</td>\n",
              "      <td>0.088712</td>\n",
              "    </tr>\n",
              "    <tr>\n",
              "      <th>3</th>\n",
              "      <td>2</td>\n",
              "      <td>1</td>\n",
              "      <td>0.413957</td>\n",
              "      <td>0.632996</td>\n",
              "      <td>0.040843</td>\n",
              "      <td>0.408823</td>\n",
              "      <td>0.657897</td>\n",
              "      <td>0.039796</td>\n",
              "    </tr>\n",
              "    <tr>\n",
              "      <th>4</th>\n",
              "      <td>2</td>\n",
              "      <td>1</td>\n",
              "      <td>0.334292</td>\n",
              "      <td>0.543401</td>\n",
              "      <td>0.159890</td>\n",
              "      <td>0.303349</td>\n",
              "      <td>0.558807</td>\n",
              "      <td>0.157373</td>\n",
              "    </tr>\n",
              "  </tbody>\n",
              "</table>\n",
              "</div>"
            ],
            "text/plain": [
              "   Chiral indice n  Chiral indice m  Initial atomic coordinate u  \\\n",
              "0                2                1                     0.679005   \n",
              "1                2                1                     0.717298   \n",
              "2                2                1                     0.489336   \n",
              "3                2                1                     0.413957   \n",
              "4                2                1                     0.334292   \n",
              "\n",
              "   Initial atomic coordinate v  Initial atomic coordinate w  \\\n",
              "0                     0.701318                     0.017033   \n",
              "1                     0.642129                     0.231319   \n",
              "2                     0.303751                     0.088462   \n",
              "3                     0.632996                     0.040843   \n",
              "4                     0.543401                     0.159890   \n",
              "\n",
              "   Calculated atomic coordinates u'  Calculated atomic coordinates v'  \\\n",
              "0                          0.721039                          0.730232   \n",
              "1                          0.738414                          0.656750   \n",
              "2                          0.477676                          0.263221   \n",
              "3                          0.408823                          0.657897   \n",
              "4                          0.303349                          0.558807   \n",
              "\n",
              "   Calculated atomic coordinates w'  \n",
              "0                          0.017014  \n",
              "1                          0.232369  \n",
              "2                          0.088712  \n",
              "3                          0.039796  \n",
              "4                          0.157373  "
            ]
          },
          "metadata": {
            "tags": []
          },
          "execution_count": 31
        }
      ]
    },
    {
      "metadata": {
        "id": "M38125X-DA9i",
        "colab_type": "code",
        "colab": {
          "base_uri": "https://localhost:8080/",
          "height": 170
        },
        "outputId": "acdadbbb-d2bd-4dcc-c1f7-cad0338c2b7f"
      },
      "cell_type": "code",
      "source": [
        "data.isnull().any()"
      ],
      "execution_count": 32,
      "outputs": [
        {
          "output_type": "execute_result",
          "data": {
            "text/plain": [
              "Chiral indice n                     False\n",
              "Chiral indice m                     False\n",
              "Initial atomic coordinate u         False\n",
              "Initial atomic coordinate v         False\n",
              "Initial atomic coordinate w         False\n",
              "Calculated atomic coordinates u'    False\n",
              "Calculated atomic coordinates v'    False\n",
              "Calculated atomic coordinates w'    False\n",
              "dtype: bool"
            ]
          },
          "metadata": {
            "tags": []
          },
          "execution_count": 32
        }
      ]
    },
    {
      "metadata": {
        "id": "woTb3c1xDDRg",
        "colab_type": "text"
      },
      "cell_type": "markdown",
      "source": [
        "There are no missing values."
      ]
    },
    {
      "metadata": {
        "id": "bBesJjcvDFSu",
        "colab_type": "code",
        "colab": {
          "base_uri": "https://localhost:8080/",
          "height": 238
        },
        "outputId": "10f3a87f-bbbb-4504-9d46-2c37ea75b952"
      },
      "cell_type": "code",
      "source": [
        "data.info()"
      ],
      "execution_count": 33,
      "outputs": [
        {
          "output_type": "stream",
          "text": [
            "<class 'pandas.core.frame.DataFrame'>\n",
            "RangeIndex: 10721 entries, 0 to 10720\n",
            "Data columns (total 8 columns):\n",
            "Chiral indice n                     10721 non-null int64\n",
            "Chiral indice m                     10721 non-null int64\n",
            "Initial atomic coordinate u         10721 non-null float64\n",
            "Initial atomic coordinate v         10721 non-null float64\n",
            "Initial atomic coordinate w         10721 non-null float64\n",
            "Calculated atomic coordinates u'    10721 non-null float64\n",
            "Calculated atomic coordinates v'    10721 non-null float64\n",
            "Calculated atomic coordinates w'    10721 non-null float64\n",
            "dtypes: float64(6), int64(2)\n",
            "memory usage: 670.1 KB\n"
          ],
          "name": "stdout"
        }
      ]
    },
    {
      "metadata": {
        "id": "nZgp7JHzDIFO",
        "colab_type": "text"
      },
      "cell_type": "markdown",
      "source": [
        "There are no categorical features."
      ]
    },
    {
      "metadata": {
        "id": "DC75yD8WDKFB",
        "colab_type": "code",
        "colab": {
          "base_uri": "https://localhost:8080/",
          "height": 314
        },
        "outputId": "e8a97d8d-08c0-46e0-eb84-d99694c6f131"
      },
      "cell_type": "code",
      "source": [
        "data.describe()"
      ],
      "execution_count": 34,
      "outputs": [
        {
          "output_type": "execute_result",
          "data": {
            "text/html": [
              "<div>\n",
              "<style scoped>\n",
              "    .dataframe tbody tr th:only-of-type {\n",
              "        vertical-align: middle;\n",
              "    }\n",
              "\n",
              "    .dataframe tbody tr th {\n",
              "        vertical-align: top;\n",
              "    }\n",
              "\n",
              "    .dataframe thead th {\n",
              "        text-align: right;\n",
              "    }\n",
              "</style>\n",
              "<table border=\"1\" class=\"dataframe\">\n",
              "  <thead>\n",
              "    <tr style=\"text-align: right;\">\n",
              "      <th></th>\n",
              "      <th>Chiral indice n</th>\n",
              "      <th>Chiral indice m</th>\n",
              "      <th>Initial atomic coordinate u</th>\n",
              "      <th>Initial atomic coordinate v</th>\n",
              "      <th>Initial atomic coordinate w</th>\n",
              "      <th>Calculated atomic coordinates u'</th>\n",
              "      <th>Calculated atomic coordinates v'</th>\n",
              "      <th>Calculated atomic coordinates w'</th>\n",
              "    </tr>\n",
              "  </thead>\n",
              "  <tbody>\n",
              "    <tr>\n",
              "      <th>count</th>\n",
              "      <td>10721.000000</td>\n",
              "      <td>10721.000000</td>\n",
              "      <td>10721.000000</td>\n",
              "      <td>10721.000000</td>\n",
              "      <td>10721.000000</td>\n",
              "      <td>10721.000000</td>\n",
              "      <td>10721.000000</td>\n",
              "      <td>10721.000000</td>\n",
              "    </tr>\n",
              "    <tr>\n",
              "      <th>mean</th>\n",
              "      <td>8.225725</td>\n",
              "      <td>3.337189</td>\n",
              "      <td>0.500064</td>\n",
              "      <td>0.500072</td>\n",
              "      <td>0.499637</td>\n",
              "      <td>0.500064</td>\n",
              "      <td>0.500072</td>\n",
              "      <td>0.499834</td>\n",
              "    </tr>\n",
              "    <tr>\n",
              "      <th>std</th>\n",
              "      <td>2.138919</td>\n",
              "      <td>1.683881</td>\n",
              "      <td>0.286524</td>\n",
              "      <td>0.286495</td>\n",
              "      <td>0.288503</td>\n",
              "      <td>0.290935</td>\n",
              "      <td>0.291012</td>\n",
              "      <td>0.289095</td>\n",
              "    </tr>\n",
              "    <tr>\n",
              "      <th>min</th>\n",
              "      <td>2.000000</td>\n",
              "      <td>1.000000</td>\n",
              "      <td>0.045149</td>\n",
              "      <td>0.045149</td>\n",
              "      <td>0.000061</td>\n",
              "      <td>0.038504</td>\n",
              "      <td>0.038930</td>\n",
              "      <td>0.000000</td>\n",
              "    </tr>\n",
              "    <tr>\n",
              "      <th>25%</th>\n",
              "      <td>7.000000</td>\n",
              "      <td>2.000000</td>\n",
              "      <td>0.218041</td>\n",
              "      <td>0.217594</td>\n",
              "      <td>0.249483</td>\n",
              "      <td>0.213364</td>\n",
              "      <td>0.212922</td>\n",
              "      <td>0.249242</td>\n",
              "    </tr>\n",
              "    <tr>\n",
              "      <th>50%</th>\n",
              "      <td>8.000000</td>\n",
              "      <td>3.000000</td>\n",
              "      <td>0.500181</td>\n",
              "      <td>0.500297</td>\n",
              "      <td>0.500057</td>\n",
              "      <td>0.500538</td>\n",
              "      <td>0.500020</td>\n",
              "      <td>0.499755</td>\n",
              "    </tr>\n",
              "    <tr>\n",
              "      <th>75%</th>\n",
              "      <td>10.000000</td>\n",
              "      <td>5.000000</td>\n",
              "      <td>0.781959</td>\n",
              "      <td>0.782709</td>\n",
              "      <td>0.749191</td>\n",
              "      <td>0.786588</td>\n",
              "      <td>0.787161</td>\n",
              "      <td>0.749463</td>\n",
              "    </tr>\n",
              "    <tr>\n",
              "      <th>max</th>\n",
              "      <td>12.000000</td>\n",
              "      <td>6.000000</td>\n",
              "      <td>0.954851</td>\n",
              "      <td>0.954851</td>\n",
              "      <td>0.999411</td>\n",
              "      <td>0.961496</td>\n",
              "      <td>0.961070</td>\n",
              "      <td>1.000000</td>\n",
              "    </tr>\n",
              "  </tbody>\n",
              "</table>\n",
              "</div>"
            ],
            "text/plain": [
              "       Chiral indice n  Chiral indice m  Initial atomic coordinate u  \\\n",
              "count     10721.000000     10721.000000                 10721.000000   \n",
              "mean          8.225725         3.337189                     0.500064   \n",
              "std           2.138919         1.683881                     0.286524   \n",
              "min           2.000000         1.000000                     0.045149   \n",
              "25%           7.000000         2.000000                     0.218041   \n",
              "50%           8.000000         3.000000                     0.500181   \n",
              "75%          10.000000         5.000000                     0.781959   \n",
              "max          12.000000         6.000000                     0.954851   \n",
              "\n",
              "       Initial atomic coordinate v  Initial atomic coordinate w  \\\n",
              "count                 10721.000000                 10721.000000   \n",
              "mean                      0.500072                     0.499637   \n",
              "std                       0.286495                     0.288503   \n",
              "min                       0.045149                     0.000061   \n",
              "25%                       0.217594                     0.249483   \n",
              "50%                       0.500297                     0.500057   \n",
              "75%                       0.782709                     0.749191   \n",
              "max                       0.954851                     0.999411   \n",
              "\n",
              "       Calculated atomic coordinates u'  Calculated atomic coordinates v'  \\\n",
              "count                      10721.000000                      10721.000000   \n",
              "mean                           0.500064                          0.500072   \n",
              "std                            0.290935                          0.291012   \n",
              "min                            0.038504                          0.038930   \n",
              "25%                            0.213364                          0.212922   \n",
              "50%                            0.500538                          0.500020   \n",
              "75%                            0.786588                          0.787161   \n",
              "max                            0.961496                          0.961070   \n",
              "\n",
              "       Calculated atomic coordinates w'  \n",
              "count                      10721.000000  \n",
              "mean                           0.499834  \n",
              "std                            0.289095  \n",
              "min                            0.000000  \n",
              "25%                            0.249242  \n",
              "50%                            0.499755  \n",
              "75%                            0.749463  \n",
              "max                            1.000000  "
            ]
          },
          "metadata": {
            "tags": []
          },
          "execution_count": 34
        }
      ]
    },
    {
      "metadata": {
        "id": "MEtIMHZiDQBF",
        "colab_type": "code",
        "colab": {}
      },
      "cell_type": "code",
      "source": [
        "import matplotlib.pyplot as plt\n",
        "%matplotlib inline"
      ],
      "execution_count": 0,
      "outputs": []
    },
    {
      "metadata": {
        "id": "6zxmmyLyDUhm",
        "colab_type": "code",
        "colab": {
          "base_uri": "https://localhost:8080/",
          "height": 450
        },
        "outputId": "28f60ee8-1d30-4c76-daaf-1afc218260dc"
      },
      "cell_type": "code",
      "source": [
        "data.hist(bins=50)"
      ],
      "execution_count": 36,
      "outputs": [
        {
          "output_type": "execute_result",
          "data": {
            "text/plain": [
              "array([[<matplotlib.axes._subplots.AxesSubplot object at 0x7f6195836dd8>,\n",
              "        <matplotlib.axes._subplots.AxesSubplot object at 0x7f6192f80668>,\n",
              "        <matplotlib.axes._subplots.AxesSubplot object at 0x7f6192f37908>],\n",
              "       [<matplotlib.axes._subplots.AxesSubplot object at 0x7f6192eefb38>,\n",
              "        <matplotlib.axes._subplots.AxesSubplot object at 0x7f6192f27c18>,\n",
              "        <matplotlib.axes._subplots.AxesSubplot object at 0x7f6192f27c50>],\n",
              "       [<matplotlib.axes._subplots.AxesSubplot object at 0x7f6192e919e8>,\n",
              "        <matplotlib.axes._subplots.AxesSubplot object at 0x7f6192e4b9e8>,\n",
              "        <matplotlib.axes._subplots.AxesSubplot object at 0x7f6192dfdf98>]],\n",
              "      dtype=object)"
            ]
          },
          "metadata": {
            "tags": []
          },
          "execution_count": 36
        },
        {
          "output_type": "display_data",
          "data": {
            "image/png": "[encoded data removed]",
            "text/plain": [
              "<matplotlib.figure.Figure at 0x7f6195823d68>"
            ]
          },
          "metadata": {
            "tags": []
          }
        }
      ]
    },
    {
      "metadata": {
        "id": "Nsd78gqeDoCx",
        "colab_type": "code",
        "colab": {
          "base_uri": "https://localhost:8080/",
          "height": 170
        },
        "outputId": "e58e1ece-02f9-4ec4-e048-cc655265a52d"
      },
      "cell_type": "code",
      "source": [
        "data.corr()[\"Calculated atomic coordinates w'\"]"
      ],
      "execution_count": 37,
      "outputs": [
        {
          "output_type": "execute_result",
          "data": {
            "text/plain": [
              "Chiral indice n                     0.001238\n",
              "Chiral indice m                    -0.002989\n",
              "Initial atomic coordinate u        -0.001546\n",
              "Initial atomic coordinate v         0.000110\n",
              "Initial atomic coordinate w         0.998871\n",
              "Calculated atomic coordinates u'   -0.001016\n",
              "Calculated atomic coordinates v'    0.000990\n",
              "Calculated atomic coordinates w'    1.000000\n",
              "Name: Calculated atomic coordinates w', dtype: float64"
            ]
          },
          "metadata": {
            "tags": []
          },
          "execution_count": 37
        }
      ]
    },
    {
      "metadata": {
        "id": "OucahNSuD238",
        "colab_type": "text"
      },
      "cell_type": "markdown",
      "source": [
        "According to the corrlation, most features play little to no importance.  \n",
        "The most important feature is by far the initial atomic coordinate w'."
      ]
    },
    {
      "metadata": {
        "id": "GxroHLTREB_W",
        "colab_type": "code",
        "colab": {}
      },
      "cell_type": "code",
      "source": [
        "X = data.drop([\"Calculated atomic coordinates w'\"], axis=1).values\n",
        "Y = data[\"Calculated atomic coordinates w'\"].values"
      ],
      "execution_count": 0,
      "outputs": []
    },
    {
      "metadata": {
        "id": "_x_uJ2ChEP00",
        "colab_type": "code",
        "colab": {}
      },
      "cell_type": "code",
      "source": [
        "from sklearn.model_selection import train_test_split, cross_val_score, KFold, learning_curve, GridSearchCV\n",
        "from sklearn.pipeline import Pipeline\n",
        "from sklearn.linear_model import LinearRegression\n",
        "from sklearn.preprocessing import StandardScaler, PolynomialFeatures\n",
        "import numpy as np\n",
        "\n",
        "np.random.seed(42)"
      ],
      "execution_count": 0,
      "outputs": []
    },
    {
      "metadata": {
        "id": "qpd99qEAEyDd",
        "colab_type": "code",
        "colab": {}
      },
      "cell_type": "code",
      "source": [
        "trainX, testX, trainY, testY = train_test_split(X, Y, test_size=.2)"
      ],
      "execution_count": 0,
      "outputs": []
    },
    {
      "metadata": {
        "id": "V9s3ESXHE2Bi",
        "colab_type": "code",
        "colab": {}
      },
      "cell_type": "code",
      "source": [
        "pipe = Pipeline([\n",
        "    (\"scaler\", StandardScaler()),\n",
        "    (\"poly\", PolynomialFeatures(degree=1)),\n",
        "    (\"lr\", LinearRegression())\n",
        "])"
      ],
      "execution_count": 0,
      "outputs": []
    },
    {
      "metadata": {
        "id": "N1oTsCWbFCN6",
        "colab_type": "code",
        "colab": {
          "base_uri": "https://localhost:8080/",
          "height": 1108
        },
        "outputId": "70eeb7e1-13b9-4ac5-83c9-1eeb0a0ab8a6"
      },
      "cell_type": "code",
      "source": [
        "params = {\n",
        "    \"poly__degree\":[1,2,3,4,5]\n",
        "}\n",
        "\n",
        "grid = GridSearchCV(pipe, params, cv=5, scoring='neg_mean_squared_error', verbose=3)\n",
        "grid.fit(trainX, trainY)"
      ],
      "execution_count": 42,
      "outputs": [
        {
          "output_type": "stream",
          "text": [
            "Fitting 5 folds for each of 5 candidates, totalling 25 fits\n",
            "[CV] poly__degree=1 ..................................................\n",
            "[CV] ..... poly__degree=1, score=-0.0001883483242265302, total=   0.0s\n",
            "[CV] poly__degree=1 ..................................................\n",
            "[CV] .... poly__degree=1, score=-0.00027960987755487317, total=   0.0s\n",
            "[CV] poly__degree=1 ..................................................\n",
            "[CV] .... poly__degree=1, score=-0.00014805142320827827, total=   0.0s\n",
            "[CV] poly__degree=1 ..................................................\n",
            "[CV] ..... poly__degree=1, score=-0.0002877029717361843, total=   0.0s\n",
            "[CV] poly__degree=1 ..................................................\n",
            "[CV] ..... poly__degree=1, score=-0.0001491350762233318, total=   0.0s\n",
            "[CV] poly__degree=2 ..................................................\n",
            "[CV] .... poly__degree=2, score=-0.00018897403714195172, total=   0.0s\n",
            "[CV] poly__degree=2 ..................................................\n",
            "[CV] .... poly__degree=2, score=-0.00028003364808697185, total=   0.0s\n",
            "[CV] poly__degree=2 ..................................................\n",
            "[CV] .... poly__degree=2, score=-0.00014868080035758632, total=   0.0s\n",
            "[CV] poly__degree=2 ..................................................\n"
          ],
          "name": "stdout"
        },
        {
          "output_type": "stream",
          "text": [
            "[Parallel(n_jobs=1)]: Using backend SequentialBackend with 1 concurrent workers.\n",
            "[Parallel(n_jobs=1)]: Done   1 out of   1 | elapsed:    0.0s remaining:    0.0s\n",
            "[Parallel(n_jobs=1)]: Done   2 out of   2 | elapsed:    0.0s remaining:    0.0s\n"
          ],
          "name": "stderr"
        },
        {
          "output_type": "stream",
          "text": [
            "[CV] .... poly__degree=2, score=-0.00028838631867802067, total=   0.0s\n",
            "[CV] poly__degree=2 ..................................................\n",
            "[CV] ..... poly__degree=2, score=-0.0001493716689949366, total=   0.0s\n",
            "[CV] poly__degree=3 ..................................................\n",
            "[CV] .... poly__degree=3, score=-0.00019015136192069928, total=   0.2s\n",
            "[CV] poly__degree=3 ..................................................\n",
            "[CV] ..... poly__degree=3, score=-0.0002805067216444178, total=   0.1s\n",
            "[CV] poly__degree=3 ..................................................\n",
            "[CV] .... poly__degree=3, score=-0.00014993118282409488, total=   0.2s\n",
            "[CV] poly__degree=3 ..................................................\n",
            "[CV] .... poly__degree=3, score=-0.00029105962342491584, total=   0.2s\n",
            "[CV] poly__degree=3 ..................................................\n",
            "[CV] .... poly__degree=3, score=-0.00015097498200110381, total=   0.1s\n",
            "[CV] poly__degree=4 ..................................................\n",
            "[CV] .... poly__degree=4, score=-0.00019267927900706427, total=   0.4s\n",
            "[CV] poly__degree=4 ..................................................\n",
            "[CV] ...... poly__degree=4, score=-0.000325638086395357, total=   0.3s\n",
            "[CV] poly__degree=4 ..................................................\n",
            "[CV] .... poly__degree=4, score=-0.00015555177118764115, total=   0.3s\n",
            "[CV] poly__degree=4 ..................................................\n",
            "[CV] ..... poly__degree=4, score=-0.0003151653387361532, total=   0.3s\n",
            "[CV] poly__degree=4 ..................................................\n",
            "[CV] .... poly__degree=4, score=-0.00015877276304329023, total=   0.3s\n",
            "[CV] poly__degree=5 ..................................................\n",
            "[CV] .... poly__degree=5, score=-0.00028577274911533064, total=   1.3s\n",
            "[CV] poly__degree=5 ..................................................\n",
            "[CV] ...... poly__degree=5, score=-0.001118651863934795, total=   1.3s\n",
            "[CV] poly__degree=5 ..................................................\n",
            "[CV] ..... poly__degree=5, score=-0.0005802781904312836, total=   1.3s\n",
            "[CV] poly__degree=5 ..................................................\n",
            "[CV] ..... poly__degree=5, score=-0.0016986814692059654, total=   1.3s\n",
            "[CV] poly__degree=5 ..................................................\n",
            "[CV] ....... poly__degree=5, score=-0.00609667484222225, total=   1.3s\n"
          ],
          "name": "stdout"
        },
        {
          "output_type": "stream",
          "text": [
            "[Parallel(n_jobs=1)]: Done  25 out of  25 | elapsed:   10.7s finished\n"
          ],
          "name": "stderr"
        },
        {
          "output_type": "execute_result",
          "data": {
            "text/plain": [
              "GridSearchCV(cv=5, error_score='raise-deprecating',\n",
              "       estimator=Pipeline(memory=None,\n",
              "     steps=[('scaler', StandardScaler(copy=True, with_mean=True, with_std=True)), ('poly', PolynomialFeatures(degree=1, include_bias=True, interaction_only=False)), ('lr', LinearRegression(copy_X=True, fit_intercept=True, n_jobs=None,\n",
              "         normalize=False))]),\n",
              "       fit_params=None, iid='warn', n_jobs=None,\n",
              "       param_grid={'poly__degree': [1, 2, 3, 4, 5]},\n",
              "       pre_dispatch='2*n_jobs', refit=True, return_train_score='warn',\n",
              "       scoring='neg_mean_squared_error', verbose=3)"
            ]
          },
          "metadata": {
            "tags": []
          },
          "execution_count": 42
        }
      ]
    },
    {
      "metadata": {
        "id": "m0fI_DuDFXlI",
        "colab_type": "code",
        "colab": {
          "base_uri": "https://localhost:8080/",
          "height": 51
        },
        "outputId": "2366f2a7-d969-4ad2-810a-773b19a31601"
      },
      "cell_type": "code",
      "source": [
        "print(grid.best_params_)\n",
        "print(np.sqrt(-grid.best_score_))"
      ],
      "execution_count": 43,
      "outputs": [
        {
          "output_type": "stream",
          "text": [
            "{'poly__degree': 1}\n",
            "0.01451092497042188\n"
          ],
          "name": "stdout"
        }
      ]
    },
    {
      "metadata": {
        "id": "MtQFwOkRFqWH",
        "colab_type": "text"
      },
      "cell_type": "markdown",
      "source": [
        "The polynomial has a degree of 1."
      ]
    },
    {
      "metadata": {
        "id": "lLMQgveyFsnc",
        "colab_type": "code",
        "colab": {}
      },
      "cell_type": "code",
      "source": [
        "from sklearn.svm import SVR"
      ],
      "execution_count": 0,
      "outputs": []
    },
    {
      "metadata": {
        "id": "F9OhMjIeFv4a",
        "colab_type": "code",
        "colab": {}
      },
      "cell_type": "code",
      "source": [
        "pipe2 = Pipeline([\n",
        "    (\"scaler\", StandardScaler()),\n",
        "    (\"svm\", SVR(verbose=3))\n",
        "])"
      ],
      "execution_count": 0,
      "outputs": []
    },
    {
      "metadata": {
        "id": "6CoqNCnUF_Jx",
        "colab_type": "code",
        "colab": {}
      },
      "cell_type": "code",
      "source": [
        "from sklearn.linear_model import Ridge"
      ],
      "execution_count": 0,
      "outputs": []
    },
    {
      "metadata": {
        "id": "fEpYGawkGF8i",
        "colab_type": "code",
        "colab": {}
      },
      "cell_type": "code",
      "source": [
        "pipe3 = Pipeline([\n",
        "    (\"scaler\", StandardScaler()),\n",
        "    (\"ridge\", Ridge())\n",
        "])"
      ],
      "execution_count": 0,
      "outputs": []
    },
    {
      "metadata": {
        "id": "jxj-JPIIGQMk",
        "colab_type": "code",
        "colab": {
          "base_uri": "https://localhost:8080/",
          "height": 833
        },
        "outputId": "edd3ab34-9afc-4f22-84b0-6e31d025a93e"
      },
      "cell_type": "code",
      "source": [
        "kfold = KFold(n_splits=10, shuffle=True)\n",
        "\n",
        "score1 = cross_val_score(pipe2, trainX, trainY, cv=kfold, scoring='neg_mean_squared_error', verbose=3)\n",
        "score2 = cross_val_score(pipe3, trainX, trainY, cv=kfold, scoring='neg_mean_squared_error', verbose=3)"
      ],
      "execution_count": 59,
      "outputs": [
        {
          "output_type": "stream",
          "text": [
            "[Parallel(n_jobs=1)]: Using backend SequentialBackend with 1 concurrent workers.\n"
          ],
          "name": "stderr"
        },
        {
          "output_type": "stream",
          "text": [
            "[CV]  ................................................................\n",
            "[LibSVM][CV] ................... , score=-0.0024589256226286017, total=   0.2s\n",
            "[CV]  ................................................................\n",
            "[LibSVM][CV] ................... , score=-0.0029196601712940503, total=   0.2s\n",
            "[CV]  ................................................................\n",
            "[LibSVM]"
          ],
          "name": "stdout"
        },
        {
          "output_type": "stream",
          "text": [
            "[Parallel(n_jobs=1)]: Done   1 out of   1 | elapsed:    0.2s remaining:    0.0s\n",
            "[Parallel(n_jobs=1)]: Done   2 out of   2 | elapsed:    0.4s remaining:    0.0s\n"
          ],
          "name": "stderr"
        },
        {
          "output_type": "stream",
          "text": [
            "[CV] .................... , score=-0.002413774053370665, total=   0.2s\n",
            "[CV]  ................................................................\n",
            "[LibSVM][CV] .................... , score=-0.002120818976468333, total=   0.2s\n",
            "[CV]  ................................................................\n",
            "[LibSVM][CV] .................... , score=-0.002258156298105335, total=   0.2s\n",
            "[CV]  ................................................................\n",
            "[LibSVM][CV] ................... , score=-0.0023821623358239574, total=   0.3s\n",
            "[CV]  ................................................................\n",
            "[LibSVM][CV] ................... , score=-0.0022309293831671824, total=   0.3s\n",
            "[CV]  ................................................................\n",
            "[LibSVM][CV] ................... , score=-0.0028227414368096064, total=   0.2s\n",
            "[CV]  ................................................................\n",
            "[LibSVM][CV] ................... , score=-0.0023777249507721046, total=   0.2s\n",
            "[CV]  ................................................................\n",
            "[LibSVM][CV] .................... , score=-0.002121595443742806, total=   0.2s\n",
            "[CV]  ................................................................\n",
            "[CV] .................. , score=-5.9739711582895355e-05, total=   0.0s\n",
            "[CV]  ................................................................\n",
            "[CV] ................... , score=-2.795170429736169e-05, total=   0.0s\n",
            "[CV]  ................................................................\n",
            "[CV] .................. , score=-0.00020421744347158595, total=   0.0s\n",
            "[CV]  ................................................................\n",
            "[CV] ................... , score=-0.0006527915259099042, total=   0.0s\n",
            "[CV]  ................................................................\n",
            "[CV] ................... , score=-4.868814174472005e-05, total=   0.0s\n",
            "[CV]  ................................................................\n",
            "[CV] ................... , score=-8.208088165604326e-05, total=   0.0s\n",
            "[CV]  ................................................................\n",
            "[CV] .................. , score=-0.00023667266232484455, total=   0.0s\n",
            "[CV]  ................................................................\n",
            "[CV] ................... , score=-0.0002765549146063587, total=   0.0s\n",
            "[CV]  ................................................................\n",
            "[CV] ................... , score=-5.339624541905507e-07, total=   0.0s\n",
            "[CV]  ................................................................\n",
            "[CV] ................... , score=-0.0005168073849576081, total=   0.0s\n"
          ],
          "name": "stdout"
        },
        {
          "output_type": "stream",
          "text": [
            "[Parallel(n_jobs=1)]: Done  10 out of  10 | elapsed:    2.3s finished\n",
            "[Parallel(n_jobs=1)]: Using backend SequentialBackend with 1 concurrent workers.\n",
            "[Parallel(n_jobs=1)]: Done   1 out of   1 | elapsed:    0.0s remaining:    0.0s\n",
            "[Parallel(n_jobs=1)]: Done   2 out of   2 | elapsed:    0.0s remaining:    0.0s\n",
            "[Parallel(n_jobs=1)]: Done  10 out of  10 | elapsed:    0.1s finished\n"
          ],
          "name": "stderr"
        }
      ]
    },
    {
      "metadata": {
        "id": "BLMHnGk6G49k",
        "colab_type": "code",
        "colab": {
          "base_uri": "https://localhost:8080/",
          "height": 51
        },
        "outputId": "6ca06306-daaa-4536-f4a9-5439ac5416b4"
      },
      "cell_type": "code",
      "source": [
        "print(np.sqrt(-score1.mean()))\n",
        "print(np.sqrt(-score2.mean()))"
      ],
      "execution_count": 60,
      "outputs": [
        {
          "output_type": "stream",
          "text": [
            "0.04909835910922344\n",
            "0.014512196019229867\n"
          ],
          "name": "stdout"
        }
      ]
    },
    {
      "metadata": {
        "id": "Rtm6NGguHD1S",
        "colab_type": "text"
      },
      "cell_type": "markdown",
      "source": [
        "Ridge regression has far less error.  This is most likely due to the fact that very few features are actually very important."
      ]
    },
    {
      "metadata": {
        "id": "f1ZKNdjmHbCf",
        "colab_type": "code",
        "colab": {}
      },
      "cell_type": "code",
      "source": [
        "train_sizes = [1,100,1000,3000,6860]\n",
        "\n",
        "train_size, train_score, test_score = learning_curve(\n",
        "  estimator=pipe3,\n",
        "  X=trainX,\n",
        "  y=trainY,\n",
        "  cv=5,\n",
        "  scoring='neg_mean_squared_error',\n",
        "  train_sizes=train_sizes\n",
        ")"
      ],
      "execution_count": 0,
      "outputs": []
    },
    {
      "metadata": {
        "id": "-hAwt82PHtas",
        "colab_type": "code",
        "colab": {
          "base_uri": "https://localhost:8080/",
          "height": 268
        },
        "outputId": "b6358d37-f02c-4003-a442-890caf529584"
      },
      "cell_type": "code",
      "source": [
        "mean_train = -train_score.mean(axis=1)\n",
        "mean_test = -test_score.mean(axis=1)\n",
        "\n",
        "plt.plot(train_size, mean_train, 'r-', label='train')\n",
        "plt.plot(train_size, mean_test, 'g-', label='test')\n",
        "\n",
        "plt.legend()\n",
        "\n",
        "plt.show()"
      ],
      "execution_count": 63,
      "outputs": [
        {
          "output_type": "display_data",
          "data": {
            "image/png": "[encoded data removed]",
            "text/plain": [
              "<matplotlib.figure.Figure at 0x7f6192cc4c88>"
            ]
          },
          "metadata": {
            "tags": []
          }
        }
      ]
    },
    {
      "metadata": {
        "id": "9PT9rE7WIFqI",
        "colab_type": "code",
        "colab": {
          "base_uri": "https://localhost:8080/",
          "height": 34
        },
        "outputId": "a70fa7d4-c59d-4ed7-9a15-b835f486d4f0"
      },
      "cell_type": "code",
      "source": [
        "pipe3.fit(trainX, trainY)\n",
        "print(pipe3.score(testX, testY))"
      ],
      "execution_count": 65,
      "outputs": [
        {
          "output_type": "stream",
          "text": [
            "0.9987960124180894\n"
          ],
          "name": "stdout"
        }
      ]
    },
    {
      "metadata": {
        "id": "4XXzoZeTIRVF",
        "colab_type": "code",
        "colab": {}
      },
      "cell_type": "code",
      "source": [
        "from scipy.stats import ttest_ind"
      ],
      "execution_count": 0,
      "outputs": []
    },
    {
      "metadata": {
        "id": "tzz0fkSFIVrN",
        "colab_type": "code",
        "colab": {}
      },
      "cell_type": "code",
      "source": [
        "t2, p2 = ttest_ind(X, Y)"
      ],
      "execution_count": 0,
      "outputs": []
    },
    {
      "metadata": {
        "id": "lp7aJ4XaIeYP",
        "colab_type": "code",
        "colab": {
          "base_uri": "https://localhost:8080/",
          "height": 51
        },
        "outputId": "07586f3b-138c-4385-e9e2-dcb661c98b39"
      },
      "cell_type": "code",
      "source": [
        "print(t2)"
      ],
      "execution_count": 80,
      "outputs": [
        {
          "output_type": "stream",
          "text": [
            "[ 3.70630187e+02  1.71953930e+02  5.85089708e-02  6.06225058e-02\n",
            " -4.98837915e-02  5.82182702e-02  6.01542018e-02]\n"
          ],
          "name": "stdout"
        }
      ]
    },
    {
      "metadata": {
        "id": "iTbmzn5rIfm3",
        "colab_type": "code",
        "colab": {
          "base_uri": "https://localhost:8080/",
          "height": 51
        },
        "outputId": "2ebcf562-ddbb-45c6-d556-fc580081060c"
      },
      "cell_type": "code",
      "source": [
        "print(1 - p2)"
      ],
      "execution_count": 81,
      "outputs": [
        {
          "output_type": "stream",
          "text": [
            "[1.         1.         0.04665624 0.04833959 0.03978454 0.04642469\n",
            " 0.04796662]\n"
          ],
          "name": "stdout"
        }
      ]
    },
    {
      "metadata": {
        "id": "qZbbuHo8JaoS",
        "colab_type": "text"
      },
      "cell_type": "markdown",
      "source": [
        "According to our p-values, the indices are not very important to the outcome (this was excepted due to the correlation).  However, one unexcepted outcome was that only the first 2 features were unimportant.  The corrlation said that the only outcome that was important was the initail w' corrinates."
      ]
    },
    {
      "metadata": {
        "id": "FubeftD9KRv5",
        "colab_type": "code",
        "colab": {
          "base_uri": "https://localhost:8080/",
          "height": 136
        },
        "outputId": "14879367-fed4-4247-cf8e-d4e9d7867dcf"
      },
      "cell_type": "code",
      "source": [
        "for a in range(len(data.keys()) - 1):\n",
        "  print(pipe3.named_steps['ridge'].coef_[a], data.keys()[a])\n",
        "  "
      ],
      "execution_count": 77,
      "outputs": [
        {
          "output_type": "stream",
          "text": [
            "0.00021801036122291942 Chiral indice n\n",
            "-0.00018619396239904622 Chiral indice m\n",
            "9.183115816787024e-05 Initial atomic coordinate u\n",
            "0.0017983509412610567 Initial atomic coordinate v\n",
            "0.2887122974699214 Initial atomic coordinate w\n",
            "-0.0005172491662309718 Calculated atomic coordinates u'\n",
            "-0.001464040945159765 Calculated atomic coordinates v'\n"
          ],
          "name": "stdout"
        }
      ]
    },
    {
      "metadata": {
        "id": "Gj_QrLgHLMAY",
        "colab_type": "text"
      },
      "cell_type": "markdown",
      "source": [
        "The weights on each of the features confirms this, as the first 2 features cause the predictor to go up/down very little.  Also, the initial w coordinate is by far the most important, as it has both the highest p-values (meaning it affects the outcome the most), and it has the highest weight (meaning that a change in this feature makes the outcome change the most)."
      ]
    },
    {
      "metadata": {
        "id": "OGb6dy5yLlj4",
        "colab_type": "code",
        "colab": {}
      },
      "cell_type": "code",
      "source": [
        "import pickle\n",
        "\n",
        "filename = \"carbon_nanotubes.sav\"\n",
        "\n",
        "pickle.dump(pipe3, open(filename, 'wb'))"
      ],
      "execution_count": 0,
      "outputs": []
    }
  ]
}